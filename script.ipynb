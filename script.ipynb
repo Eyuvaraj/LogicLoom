{
 "cells": [
  {
   "cell_type": "markdown",
   "metadata": {},
   "source": [
    "# Exploratory Data Analysis (EDA)\n",
    "## General Structure\n",
    "Dataset includes **3** columns and **500** rows.\n",
    "There are **1** different data types as follows: *object*."
   ]
  },
  {
   "cell_type": "markdown",
   "metadata": {},
   "source": [
    "Let's review the dataset description:\n",
    "<table border=\"1\" class=\"dataframe\">\n",
    "  <thead>\n",
    "    <tr style=\"text-align: right;\">\n",
    "      <th></th>\n",
    "      <th>count</th>\n",
    "      <th>unique</th>\n",
    "      <th>top</th>\n",
    "      <th>freq</th>\n",
    "    </tr>\n",
    "  </thead>\n",
    "  <tbody>\n",
    "    <tr>\n",
    "      <th>Article_ID</th>\n",
    "      <td>500</td>\n",
    "      <td>500</td>\n",
    "      <td>TRAIN_1</td>\n",
    "      <td>1</td>\n",
    "    </tr>\n",
    "    <tr>\n",
    "      <th>Article_content</th>\n",
    "      <td>500</td>\n",
    "      <td>499</td>\n",
    "      <td>Starting in the late 1950s, in computer facilities at mIT, Stanford, and other research universities people began to encounter persons who had both unusual programming skill and an obsession with the inner workings of the machine. While ordinary users viewed the computer sim-ply as a tool for solving particular problems, this peculiar breed of programmers reveled in extending the capabilities of the system and creating tools such as program editors that would make it easier to create even more powerful programs. The movement from mainframes that could run only one program at a time to machines that could simulta-neously serve many users created a kind of environmental niche in which these self-described hackers could flourish. Indeed, while administrators sometimes complained that hackers took up too much of the available computer time, they often depended on them to fix the bugs that infested the first versions of time-sharing operating systems. Hack-ers also tended to work in the wee hours of the night while normal users slept.</td>\n",
    "      <td>2</td>\n",
    "    </tr>\n",
    "    <tr>\n",
    "      <th>Article_type</th>\n",
    "      <td>500</td>\n",
    "      <td>2</td>\n",
    "      <td>Human-written</td>\n",
    "      <td>386</td>\n",
    "    </tr>\n",
    "  </tbody>\n",
    "</table>"
   ]
  },
  {
   "cell_type": "markdown",
   "metadata": {},
   "source": [
    "There is **2** unique value in **Article_type** column which is a target column.\n",
    "let's see frequency of values for the target column of {col}:\n",
    "<table border=\"1\" class=\"dataframe\">\n",
    "  <thead>\n",
    "    <tr style=\"text-align: right;\">\n",
    "      <th></th>\n",
    "      <th>count</th>\n",
    "    </tr>\n",
    "    <tr>\n",
    "      <th>Article_type</th>\n",
    "      <th></th>\n",
    "    </tr>\n",
    "  </thead>\n",
    "  <tbody>\n",
    "    <tr>\n",
    "      <th>Human-written</th>\n",
    "      <td>386</td>\n",
    "    </tr>\n",
    "    <tr>\n",
    "      <th>AI-generated</th>\n",
    "      <td>114</td>\n",
    "    </tr>\n",
    "  </tbody>\n",
    "</table>"
   ]
  },
  {
   "cell_type": "markdown",
   "metadata": {},
   "source": [
    "# Input Dataset"
   ]
  },
  {
   "cell_type": "code",
   "execution_count": 1,
   "metadata": {
    "execution": {
     "iopub.execute_input": "2024-05-24T15:07:39.208395Z",
     "iopub.status.busy": "2024-05-24T15:07:39.208007Z",
     "iopub.status.idle": "2024-05-24T15:07:39.492039Z",
     "shell.execute_reply": "2024-05-24T15:07:39.491510Z"
    }
   },
   "outputs": [],
   "source": [
    "# LOAD DATA\n",
    "import pandas as pd\n",
    "train_dataset = pd.read_csv(\"./train_set.csv\", encoding=\"UTF-8\", delimiter=\",\")"
   ]
  },
  {
   "cell_type": "markdown",
   "metadata": {},
   "source": [
    "## Visualization for data distribution of columns"
   ]
  },
  {
   "cell_type": "code",
   "execution_count": 2,
   "metadata": {
    "execution": {
     "iopub.execute_input": "2024-05-24T15:07:39.494333Z",
     "iopub.status.busy": "2024-05-24T15:07:39.494111Z",
     "iopub.status.idle": "2024-05-24T15:07:40.188624Z",
     "shell.execute_reply": "2024-05-24T15:07:40.188184Z"
    }
   },
   "outputs": [
    {
     "data": {
      "image/png": "[encoded data removed]",
      "text/plain": [
       "<Figure size 500x500 with 1 Axes>"
      ]
     },
     "metadata": {},
     "output_type": "display_data"
    }
   ],
   "source": [
    "import matplotlib.pyplot as plt\n",
    "import japanize_matplotlib\n",
    "import seaborn as sns\n",
    "import numpy as np\n",
    "\n",
    "\n",
    "fig = plt.figure(figsize=(5,5))\n",
    "sns.countplot(x = train_dataset[\"Article_type\"].fillna(\"\").astype(str), order=sorted(train_dataset[\"Article_type\"].fillna(\"\").astype(str).unique()))\n",
    "plt.xticks(rotation=90)\n",
    "plt.title(\"Distribution for Target Column of Article_type\")\n",
    "fig.tight_layout()\n"
   ]
  },
  {
   "cell_type": "code",
   "execution_count": 3,
   "metadata": {
    "execution": {
     "iopub.execute_input": "2024-05-24T15:07:40.190747Z",
     "iopub.status.busy": "2024-05-24T15:07:40.190432Z",
     "iopub.status.idle": "2024-05-24T15:07:40.334156Z",
     "shell.execute_reply": "2024-05-24T15:07:40.333710Z"
    }
   },
   "outputs": [],
   "source": [
    "# TRAIN-TEST SPLIT\n",
    "from sklearn.model_selection import train_test_split\n",
    "def split_dataset(dataset, train_size=0.85, random_state=1024):\n",
    "    train_dataset, test_dataset = train_test_split(dataset, train_size=train_size, random_state=random_state)\n",
    "    return train_dataset, test_dataset\t\n",
    "train_dataset, test_dataset = split_dataset(train_dataset)"
   ]
  },
  {
   "cell_type": "code",
   "execution_count": 4,
   "metadata": {
    "execution": {
     "iopub.execute_input": "2024-05-24T15:07:40.336525Z",
     "iopub.status.busy": "2024-05-24T15:07:40.336163Z",
     "iopub.status.idle": "2024-05-24T15:07:40.339879Z",
     "shell.execute_reply": "2024-05-24T15:07:40.339469Z"
    }
   },
   "outputs": [],
   "source": [
    "# DROP IGNORED COLUMNS\n",
    "ignore_columns = ['Article_ID']\n",
    "train_dataset = train_dataset.drop(ignore_columns, axis=1, errors=\"ignore\")\n",
    "test_dataset = test_dataset.drop(ignore_columns, axis=1, errors=\"ignore\")"
   ]
  },
  {
   "cell_type": "markdown",
   "metadata": {},
   "source": [
    "## Text Processing\n",
    "The dataset has **1** text value as follows: **Article_content**.\n",
    "Now, let's covert the text as follows.\n",
    "\n",
    "- First, convert text to lowercase;\n",
    "\n",
    "- Second, strip all punctuations;\n",
    "\n",
    "- Finally, convert all numbers in text to 'num'; therefore, in the next step our model will use a single token instead of valriety of tokens of numbers."
   ]
  },
  {
   "cell_type": "markdown",
   "metadata": {},
   "source": [
    "## ML Explainability Tips:\n",
    "\n",
    "The following codes are generated with a confidence level of **0.8** because of the following reasons apply to **1** column(s) that include ['Article_content'].\n",
    "\n",
    "\n",
    "1. There is a text value that includes blank space among the columns with a score of **1** which is greater than **0.5**."
   ]
  },
  {
   "cell_type": "code",
   "execution_count": 5,
   "metadata": {
    "execution": {
     "iopub.execute_input": "2024-05-24T15:07:40.341962Z",
     "iopub.status.busy": "2024-05-24T15:07:40.341623Z",
     "iopub.status.idle": "2024-05-24T15:07:40.537553Z",
     "shell.execute_reply": "2024-05-24T15:07:40.536975Z"
    }
   },
   "outputs": [],
   "source": [
    "# PREPROCESSING-1\n",
    "# Component: Preprocess:TextPreprocessing\n",
    "# Efficient Cause: Preprocess:TextPreprocessing is required in this pipeline since the dataset has ['feature:str_text_presence']. The relevant features are: ['Article_content'].\n",
    "# Purpose: Preprocess and normalize text.\n",
    "# Form:\n",
    "#   Input: array of strings\n",
    "#   Key hyperparameters used: None\n",
    "# Alternatives: Although  can also be used for this dataset, Preprocess:TextPreprocessing is used because it has more  than .\n",
    "# Order: Preprocess:TextPreprocessing should be applied  \n",
    "import re\n",
    "import string\n",
    "import nltk\n",
    "TEXT_COLUMNS = ['Article_content']\n",
    "def process_text(__dataset):\n",
    "    for _col in TEXT_COLUMNS:\n",
    "        process_text = [t.lower() for t in __dataset[_col]]\n",
    "        # strip all punctuation\n",
    "        table = str.maketrans('', '', string.punctuation)\n",
    "        process_text = [t.translate(table) for t in process_text]\n",
    "        # convert all numbers in text to 'num'\n",
    "        process_text = [re.sub(r'\\d+', 'num', t) for t in process_text]\n",
    "        __dataset[_col] = process_text\n",
    "    return __dataset\n",
    "train_dataset = process_text(train_dataset)\n",
    "test_dataset = process_text(test_dataset)"
   ]
  },
  {
   "cell_type": "markdown",
   "metadata": {},
   "source": [
    "### Target Column\n",
    "We need to predict the target column.\n",
    "Therefore, we need to detach the target column in prediction.\n",
    "When the test data has the target column, the detaching is also executed for the test data.Here is the list of *target column*: **Article_type**"
   ]
  },
  {
   "cell_type": "code",
   "execution_count": 6,
   "metadata": {
    "execution": {
     "iopub.execute_input": "2024-05-24T15:07:40.539895Z",
     "iopub.status.busy": "2024-05-24T15:07:40.539684Z",
     "iopub.status.idle": "2024-05-24T15:07:40.544620Z",
     "shell.execute_reply": "2024-05-24T15:07:40.544080Z"
    }
   },
   "outputs": [],
   "source": [
    "# DETACH TARGET\n",
    "TARGET_COLUMNS = ['Article_type']\n",
    "feature_train = train_dataset.drop(TARGET_COLUMNS, axis=1)\n",
    "target_train = train_dataset[TARGET_COLUMNS].copy()\n",
    "if set(TARGET_COLUMNS).issubset(test_dataset.columns.tolist()):\n",
    "    feature_test = test_dataset.drop(TARGET_COLUMNS, axis=1)\n",
    "    target_test = test_dataset[TARGET_COLUMNS].copy()\n",
    "else:\n",
    "    feature_test = test_dataset"
   ]
  },
  {
   "cell_type": "markdown",
   "metadata": {},
   "source": [
    "# Text Vectorizer\n",
    "In the next step, we will transfer pre-processed text columns to a vector representation. The vector representation allows us to train a model based on numerical representations.\n",
    "We will use TfidfVectorizer and more detail can be found [here](https://scikit-learn.org/stable/modules/generated/sklearn.feature_extraction.text.TfidfVectorizer.html)."
   ]
  },
  {
   "cell_type": "markdown",
   "metadata": {},
   "source": [
    "## ML Explainability Tips:\n",
    "\n",
    "The following codes are generated with a confidence level of **0.84** because of the following reasons apply to **1** column(s) that include ['Article_content'].\n",
    "\n",
    "\n",
    "1. There is a text value that includes blank space among the columns with a score of **1** which is greater than **0.5**."
   ]
  },
  {
   "cell_type": "code",
   "execution_count": 7,
   "metadata": {
    "execution": {
     "iopub.execute_input": "2024-05-24T15:07:40.546640Z",
     "iopub.status.busy": "2024-05-24T15:07:40.546353Z",
     "iopub.status.idle": "2024-05-24T15:07:40.954142Z",
     "shell.execute_reply": "2024-05-24T15:07:40.953488Z"
    }
   },
   "outputs": [],
   "source": [
    "# PREPROCESSING-2\n",
    "# Component: Preprocess:TfidfVectorizer\n",
    "# Efficient Cause: Preprocess:TfidfVectorizer is required in this pipeline since the dataset has ['feature:str_text_presence']. The relevant features are: ['Article_content'].\n",
    "# Purpose: Convert a collection of raw documents to a matrix of TF-IDF features.\n",
    "# Form:\n",
    "#   Input: raw_documents\n",
    "#   Key hyperparameters used: \n",
    "#\t\t \"max_features: int, default=None\" :: If not None, build a vocabulary that only consider the top max_features ordered by term frequency across the corpus. This parameter is ignored if vocabulary is not None.\n",
    "# Alternatives: Although  can also be used for this dataset, Preprocess:TfidfVectorizer is used because it has more  than .\n",
    "# Order: Preprocess:TfidfVectorizer should be applied  \n",
    "from sklearn.feature_extraction.text import TfidfVectorizer\n",
    "TEXT_COLUMNS = ['Article_content']\n",
    "temp_train_data = feature_train[TEXT_COLUMNS]\n",
    "temp_test_data = feature_test[TEXT_COLUMNS]\n",
    "# Make the entire dataframe sparse to avoid it converting into a dense matrix.\n",
    "feature_train = feature_train.drop(TEXT_COLUMNS, axis=1).astype(pd.SparseDtype('float64', 0))\n",
    "feature_test = feature_test.drop(TEXT_COLUMNS, axis=1).astype(pd.SparseDtype('float64', 0))\n",
    "for _col in TEXT_COLUMNS:\n",
    "    tfidfvectorizer = TfidfVectorizer(max_features=3000)\n",
    "    vector_train = tfidfvectorizer.fit_transform(temp_train_data[_col])\n",
    "    feature_names = ['_'.join([_col, name]) for name in tfidfvectorizer.get_feature_names_out()]\n",
    "    vector_train = pd.DataFrame.sparse.from_spmatrix(vector_train, columns=feature_names, index=temp_train_data.index)\n",
    "    feature_train = pd.concat([feature_train, vector_train], axis=1)\n",
    "    vector_test = tfidfvectorizer.transform(temp_test_data[_col])\n",
    "    vector_test = pd.DataFrame.sparse.from_spmatrix(vector_test, columns=feature_names, index=temp_test_data.index)\n",
    "    feature_test = pd.concat([feature_test, vector_test], axis=1)"
   ]
  },
  {
   "cell_type": "code",
   "execution_count": 8,
   "metadata": {
    "execution": {
     "iopub.execute_input": "2024-05-24T15:07:40.957016Z",
     "iopub.status.busy": "2024-05-24T15:07:40.956633Z",
     "iopub.status.idle": "2024-05-24T15:07:40.960965Z",
     "shell.execute_reply": "2024-05-24T15:07:40.959980Z"
    }
   },
   "outputs": [],
   "source": [
    "# BEST PARAMETERS IN THE CANDIDATE SCRIPT\n",
    "# PLEASE SEE THE CANDIDATE SCRIPTS FOR THE HYPERPARAMTER OPTIMIZATION CODE\n",
    "best_params = {'n_estimators': 154, 'algorithm': 'SAMME'}"
   ]
  },
  {
   "cell_type": "markdown",
   "metadata": {},
   "source": [
    "# Train a Model"
   ]
  },
  {
   "cell_type": "markdown",
   "metadata": {},
   "source": [
    "# Training and Prediction\n",
    "First, we will train a model based on the pre-processed training dataset.\n",
    "Second, let's predict test values based on the trained model."
   ]
  },
  {
   "cell_type": "markdown",
   "metadata": {},
   "source": [
    "## ML Explainability Tips:\n",
    "\n",
    "This is a **Classifier** problem and we are selecting **AdaBoostClassifier** with a probability of **0.05**. The following are alternative options.\n",
    "This model is selected based on the best **ROC_AUC** of **0.914**.\n",
    "<table border=\"1\" class=\"dataframe\">\n",
    "  <thead>\n",
    "    <tr style=\"text-align: right;\">\n",
    "      <th></th>\n",
    "      <th>Model</th>\n",
    "      <th>Probability</th>\n",
    "      <th>ROC_AUC</th>\n",
    "    </tr>\n",
    "  </thead>\n",
    "  <tbody>\n",
    "    <tr>\n",
    "      <th>1</th>\n",
    "      <td>GaussianNB</td>\n",
    "      <td>0.28</td>\n",
    "      <td>None</td>\n",
    "    </tr>\n",
    "    <tr>\n",
    "      <th>2</th>\n",
    "      <td>LogisticRegression</td>\n",
    "      <td>0.1</td>\n",
    "      <td>0.85</td>\n",
    "    </tr>\n",
    "    <tr>\n",
    "      <th>3</th>\n",
    "      <td>AdaBoostClassifier</td>\n",
    "      <td>0.05</td>\n",
    "      <td>0.914</td>\n",
    "    </tr>\n",
    "    <tr>\n",
    "      <th>4</th>\n",
    "      <td>ExtraTreesClassifier</td>\n",
    "      <td>0.05</td>\n",
    "      <td>N/A</td>\n",
    "    </tr>\n",
    "    <tr>\n",
    "      <th>5</th>\n",
    "      <td>DecisionTreeClassifier</td>\n",
    "      <td>0.05</td>\n",
    "      <td>N/A</td>\n",
    "    </tr>\n",
    "    <tr>\n",
    "      <th>6</th>\n",
    "      <td>GradientBoostingClassifier</td>\n",
    "      <td>0.05</td>\n",
    "      <td>N/A</td>\n",
    "    </tr>\n",
    "    <tr>\n",
    "      <th>7</th>\n",
    "      <td>LGBMClassifier</td>\n",
    "      <td>0.05</td>\n",
    "      <td>N/A</td>\n",
    "    </tr>\n",
    "    <tr>\n",
    "      <th>8</th>\n",
    "      <td>CatBoostClassifier</td>\n",
    "      <td>0.05</td>\n",
    "      <td>N/A</td>\n",
    "    </tr>\n",
    "    <tr>\n",
    "      <th>9</th>\n",
    "      <td>RandomForestClassifier</td>\n",
    "      <td>0.04</td>\n",
    "      <td>N/A</td>\n",
    "    </tr>\n",
    "    <tr>\n",
    "      <th>10</th>\n",
    "      <td>XGBClassifier</td>\n",
    "      <td>0.04</td>\n",
    "      <td>N/A</td>\n",
    "    </tr>\n",
    "    <tr>\n",
    "      <th>11</th>\n",
    "      <td>LinearSVC</td>\n",
    "      <td>0.04</td>\n",
    "      <td>N/A</td>\n",
    "    </tr>\n",
    "    <tr>\n",
    "      <th>12</th>\n",
    "      <td>MultinomialNB</td>\n",
    "      <td>0.03</td>\n",
    "      <td>N/A</td>\n",
    "    </tr>\n",
    "    <tr>\n",
    "      <th>13</th>\n",
    "      <td>BernoulliNB</td>\n",
    "      <td>0.03</td>\n",
    "      <td>N/A</td>\n",
    "    </tr>\n",
    "    <tr>\n",
    "      <th>14</th>\n",
    "      <td>MLPClassifier</td>\n",
    "      <td>0.03</td>\n",
    "      <td>N/A</td>\n",
    "    </tr>\n",
    "    <tr>\n",
    "      <th>15</th>\n",
    "      <td>SVC</td>\n",
    "      <td>0.03</td>\n",
    "      <td>N/A</td>\n",
    "    </tr>\n",
    "    <tr>\n",
    "      <th>16</th>\n",
    "      <td>SGDClassifier</td>\n",
    "      <td>0.03</td>\n",
    "      <td>N/A</td>\n",
    "    </tr>\n",
    "    <tr>\n",
    "      <th>17</th>\n",
    "      <td>WideLearnerClient</td>\n",
    "      <td>0.0</td>\n",
    "      <td>N/A</td>\n",
    "    </tr>\n",
    "  </tbody>\n",
    "</table>"
   ]
  },
  {
   "cell_type": "code",
   "execution_count": 9,
   "metadata": {
    "execution": {
     "iopub.execute_input": "2024-05-24T15:07:40.964163Z",
     "iopub.status.busy": "2024-05-24T15:07:40.963890Z",
     "iopub.status.idle": "2024-05-24T15:07:42.292913Z",
     "shell.execute_reply": "2024-05-24T15:07:42.292440Z"
    }
   },
   "outputs": [],
   "source": [
    "# MODEL\n",
    "import numpy as np\n",
    "from sklearn.ensemble import AdaBoostClassifier\n",
    "random_state_model = 42\n",
    "model = AdaBoostClassifier(random_state=random_state_model, **best_params)\n",
    "model.fit(feature_train, target_train.values.ravel())\n",
    "y_pred = model.predict(feature_test)\n",
    "y_prob = model.predict_proba(feature_test)\n",
    "# POST PROCESSING\n",
    "if np.shape(y_prob)[1] == 2:\n",
    "    y_prob = y_prob[:, 1]"
   ]
  },
  {
   "cell_type": "code",
   "execution_count": 10,
   "metadata": {
    "execution": {
     "iopub.execute_input": "2024-05-24T15:07:42.295210Z",
     "iopub.status.busy": "2024-05-24T15:07:42.294999Z",
     "iopub.status.idle": "2024-05-24T15:07:42.301771Z",
     "shell.execute_reply": "2024-05-24T15:07:42.301373Z"
    }
   },
   "outputs": [
    {
     "name": "stdout",
     "output_type": "stream",
     "text": [
      "RESULT: ROC AUC: 0.8766666666666666\n"
     ]
    }
   ],
   "source": [
    "#EVALUATION\n",
    "if set(TARGET_COLUMNS).issubset(test_dataset.columns.tolist()):\n",
    "    from sklearn.metrics import roc_auc_score\n",
    "    __roc_auc = roc_auc_score(target_test, y_prob)\n",
    "    print('RESULT: ROC AUC:', str(__roc_auc))"
   ]
  },
  {
   "cell_type": "markdown",
   "metadata": {},
   "source": [
    "## Confusion Matrix\n",
    "confusion_matrix shows how many predictions are correct and incorrect per class."
   ]
  },
  {
   "cell_type": "code",
   "execution_count": 11,
   "metadata": {
    "execution": {
     "iopub.execute_input": "2024-05-24T15:07:42.303506Z",
     "iopub.status.busy": "2024-05-24T15:07:42.303322Z",
     "iopub.status.idle": "2024-05-24T15:07:42.429839Z",
     "shell.execute_reply": "2024-05-24T15:07:42.429372Z"
    }
   },
   "outputs": [
    {
     "data": {
      "image/png": "[encoded data removed]",
      "text/plain": [
       "<Figure size 640x480 with 2 Axes>"
      ]
     },
     "metadata": {},
     "output_type": "display_data"
    }
   ],
   "source": [
    "# Confusion Matrix\n",
    "if set(TARGET_COLUMNS).issubset(test_dataset.columns.tolist()):\n",
    "    from sklearn.metrics import ConfusionMatrixDisplay\n",
    "    ConfusionMatrixDisplay.from_predictions(target_test, y_pred)"
   ]
  },
  {
   "cell_type": "markdown",
   "metadata": {},
   "source": [
    "## Prediction File\n",
    "Our prediction results will be output to \"prediction_result.csv\"."
   ]
  },
  {
   "cell_type": "code",
   "execution_count": 12,
   "metadata": {
    "execution": {
     "iopub.execute_input": "2024-05-24T15:07:42.431764Z",
     "iopub.status.busy": "2024-05-24T15:07:42.431544Z",
     "iopub.status.idle": "2024-05-24T15:07:42.435763Z",
     "shell.execute_reply": "2024-05-24T15:07:42.435377Z"
    }
   },
   "outputs": [],
   "source": [
    "# OUTPUT PREDICTION\n",
    "prediction = pd.DataFrame(y_pred, columns=TARGET_COLUMNS, index=feature_test.index)\n",
    "prediction.to_csv(\"./prediction_result.csv\")"
   ]
  },
  {
   "cell_type": "code",
   "execution_count": 13,
   "metadata": {
    "execution": {
     "iopub.execute_input": "2024-05-24T15:07:42.437596Z",
     "iopub.status.busy": "2024-05-24T15:07:42.437326Z",
     "iopub.status.idle": "2024-05-24T15:07:42.440307Z",
     "shell.execute_reply": "2024-05-24T15:07:42.439906Z"
    }
   },
   "outputs": [],
   "source": [
    "# Models are restricted because of execution time.\n",
    "models_for_shap = ['XGBClassifier', 'XGBRegressor', 'LGBMClassifier', 'LGBMRegressor', 'GradientBoostingClassifier', 'GradientBoostingRegressor']\n",
    "if model.__class__.__name__ in models_for_shap:\n",
    "    import shap\n",
    "    feature_shap = feature_train.sample(1000) if feature_train.shape[0] > 1000 else feature_train\n",
    "    explainer = shap.Explainer(model)\n",
    "    shap_values = explainer(feature_shap)\n",
    "    # summarize the effects of all the features\n",
    "    shap.plots.beeswarm(shap_values)\n",
    "    #bar plots\n",
    "    shap.plots.bar(shap_values)"
   ]
  }
 ],
 "metadata": {
  "language_info": {
   "codemirror_mode": {
    "name": "ipython",
    "version": 3
   },
   "file_extension": ".py",
   "mimetype": "text/x-python",
   "name": "python",
   "nbconvert_exporter": "python",
   "pygments_lexer": "ipython3",
   "version": "3.11.2"
  }
 },
 "nbformat": 4,
 "nbformat_minor": 4
}
